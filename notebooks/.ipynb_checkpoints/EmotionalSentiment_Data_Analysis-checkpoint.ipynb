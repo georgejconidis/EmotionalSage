{
 "cells": [
  {
   "cell_type": "markdown",
   "metadata": {},
   "source": [
    "This notebook will explore data gathered from the paper titled:\n",
    "\"GoodNewsEveryone: A Corpus of News Headlines Annotated with Emotions, Semantic Roles, and Reader Perception\"\n",
    "Weblink: https://arxiv.org/pdf/1912.03184.pdf\n",
    "\n",
    "Summary of Data: A collection of news headlines and the emotional respsone they generated\n",
    "\n",
    "Columns in the data set:\n"
   ]
  },
  {
   "cell_type": "code",
   "execution_count": 1,
   "metadata": {},
   "outputs": [],
   "source": [
    "# Importing Python modules\n",
    "import numpy as np\n",
    "import pandas as pd\n",
    "import os"
   ]
  },
  {
   "cell_type": "code",
   "execution_count": 2,
   "metadata": {},
   "outputs": [
    {
     "name": "stderr",
     "output_type": "stream",
     "text": [
      "/home/george/anaconda3/lib/python3.7/site-packages/pandas/core/indexing.py:205: SettingWithCopyWarning: \n",
      "A value is trying to be set on a copy of a slice from a DataFrame\n",
      "\n",
      "See the caveats in the documentation: http://pandas.pydata.org/pandas-docs/stable/user_guide/indexing.html#returning-a-view-versus-a-copy\n",
      "  self._setitem_with_indexer(indexer, value)\n"
     ]
    }
   ],
   "source": [
    "# Importing the dataset with pandas\n",
    "\n",
    "# Changing the working directory to the raw data directory\n",
    "os.chdir('/home/george/Documents/Insight_DS_TO20A/Projects/EmotionalDetection/data/raw/GoodNewsEveryone')\n",
    "\n",
    "GoodNews_df_orig = pd.read_json('release_review.jsonl', lines=True)\n",
    "column_names = ['headline','phase1_rank','country','source','dominant_emotion','other_emotion','reader_emotion','intensity','readerperception']\n",
    "column_names_meta = ['phase1_rank','country']\n",
    "column_names_annotations = ['dominant_emotion','other_emotion','reader_emotion','intensity','readerperception']\n",
    "\n",
    "row_values = np.arange(5000) \n",
    "\n",
    "data_temp = pd.DataFrame(index=row_values, columns=column_names)\n",
    "\n",
    "for i in range(5000):\n",
    "#for i in range(10):    \n",
    "    data_temp.headline.iloc[i]         = GoodNews_df_orig.headline[i]\n",
    "    data_temp.phase1_rank.iloc[i]      = GoodNews_df_orig.meta.iloc[i]['phase1_rank']\n",
    "    data_temp.country.iloc[i]          = GoodNews_df_orig.meta.iloc[i]['country']\n",
    "    data_temp.source.iloc[i]           = GoodNews_df_orig.meta.iloc[i]['source']\n",
    "    data_temp.dominant_emotion.iloc[i] = GoodNews_df_orig.annotations.iloc[i]['dominant_emotion']['gold']\n",
    "    data_temp.other_emotion.iloc[i]    = GoodNews_df_orig.annotations.iloc[i]['other_emotions']['gold']  \n",
    "    data_temp.reader_emotion.iloc[i]   = GoodNews_df_orig.annotations.iloc[i]['reader_emotions']['gold'] \n",
    "    data_temp.intensity.iloc[i]        = GoodNews_df_orig.annotations.iloc[i]['intensity']['gold']\n",
    "    data_temp.readerperception.iloc[i] = GoodNews_df_orig.annotations.iloc[i]['phase1_readerperception']['gold'] "
   ]
  },
  {
   "cell_type": "code",
   "execution_count": null,
   "metadata": {
    "scrolled": true
   },
   "outputs": [],
   "source": [
    "data_temp"
   ]
  },
  {
   "cell_type": "code",
   "execution_count": 3,
   "metadata": {},
   "outputs": [
    {
     "name": "stdout",
     "output_type": "stream",
     "text": [
      "The number (out of 5000) of negative emotional headlines = 3582\n",
      "The number (out of 5000) of positive emotional headlines = 1418\n"
     ]
    }
   ],
   "source": [
    "# Minimalist appraoch to labelling the above data set: \n",
    "# Create a binary classification scheme = the headline has a \"+\" or \"-\" emotional response.\n",
    "## Only considering the dominant emotional responses\n",
    "\n",
    "# Printing all emotional tags for the dominant emotion\n",
    "# emotional_responses = data_temp.dominant_emotion.unique()\n",
    "# array(['anger', 'negative_surprise', 'sadness', 'disgust',\n",
    "#        'positive_surprise', 'positive_anticipation_including_optimism',\n",
    "#        'guilt', 'annoyance', 'negative_anticipation_including_pessimism',\n",
    "#        'pride', 'fear', 'shame', 'trust', 'love_including_like', 'joy'],\n",
    "#       dtype=object)\n",
    "\n",
    "pos_emo_response = np.array(['positive_surprise', 'positive_anticipation_including_optimism','pride','trust', 'love_including_like', 'joy'])\n",
    "\n",
    "# Creating a column to store the \"binary\" class for training the MVP\n",
    "## NOTE: We only need to chnage the values for the positive emotional responses\n",
    "data_temp['BinaryEmoLabel'] = 0\n",
    "for i in range(data_temp.shape[0]):\n",
    "    emo_temp = data_temp.dominant_emotion.iloc[i]\n",
    "    for j in range(pos_emo_response.shape[0]):\n",
    "        if emo_temp == pos_emo_response[j]:\n",
    "            data_temp.BinaryEmoLabel.iloc[i] = 1\n",
    "\n",
    "            \n",
    "# Printing the number of each class:\n",
    "print(\"The number (out of 5000) of negative emotional headlines =\", data_temp.BinaryEmoLabel.shape[0] - data_temp.BinaryEmoLabel.sum())\n",
    "print(\"The number (out of 5000) of positive emotional headlines =\", data_temp.BinaryEmoLabel.sum())"
   ]
  },
  {
   "cell_type": "markdown",
   "metadata": {},
   "source": [
    "## Pre-processing the text / headlines\n",
    "#### Initially the steps which follow were inspired by the Medium Blog Posts:\n",
    "#### https://towardsdatascience.com/sentiment-analysis-with-python-part-1-5ce197074184\n",
    "#### https://towardsdatascience.com/sentiment-analysis-with-python-part-2-4f71e7bde59a\n",
    "#### Written By: Aaron Kub\n",
    "\n",
    "#### https://towardsdatascience.com/twitter-sentiment-analysis-classification-using-nltk-python-fa912578614c\n",
    "#### Written By: Mohamed Afham ** Follwoing this scheme to begin the process"
   ]
  },
  {
   "cell_type": "code",
   "execution_count": 4,
   "metadata": {},
   "outputs": [],
   "source": [
    "#Data Analysis\n",
    "import pandas as pd\n",
    "import matplotlib.pyplot as plt\n",
    "import seaborn as sns\n",
    "\n",
    "#Data Preprocessing and Feature Engineering\n",
    "from textblob import TextBlob\n",
    "import re\n",
    "from nltk.corpus import stopwords\n",
    "from nltk.stem.wordnet import WordNetLemmatizer\n",
    "from sklearn.feature_extraction.text import CountVectorizer, TfidfTransformer\n",
    "\n",
    "#Model Selection and Validation\n",
    "from sklearn.naive_bayes import MultinomialNB\n",
    "from sklearn.model_selection import train_test_split\n",
    "from sklearn.pipeline import Pipeline\n",
    "from sklearn.metrics import confusion_matrix, classification_report,accuracy_score"
   ]
  },
  {
   "cell_type": "code",
   "execution_count": 61,
   "metadata": {},
   "outputs": [
    {
     "data": {
      "text/plain": [
       "<matplotlib.axes._subplots.AxesSubplot at 0x7f459447fdd0>"
      ]
     },
     "execution_count": 61,
     "metadata": {},
     "output_type": "execute_result"
    },
    {
     "data": {
      "image/png": "[encoded data removed]",
      "text/plain": [
       "<Figure size 432x288 with 1 Axes>"
      ]
     },
     "metadata": {
      "needs_background": "light"
     },
     "output_type": "display_data"
    }
   ],
   "source": [
    "# The Data Exploration Portion\n",
    "\n",
    "# The number count of each label\n",
    "sns.countplot(x= 'BinaryEmoLabel',data = data_temp)"
   ]
  },
  {
   "cell_type": "code",
   "execution_count": 62,
   "metadata": {},
   "outputs": [
    {
     "name": "stderr",
     "output_type": "stream",
     "text": [
      "/home/george/anaconda3/lib/python3.7/site-packages/pandas/core/indexing.py:205: SettingWithCopyWarning: \n",
      "A value is trying to be set on a copy of a slice from a DataFrame\n",
      "\n",
      "See the caveats in the documentation: http://pandas.pydata.org/pandas-docs/stable/user_guide/indexing.html#returning-a-view-versus-a-copy\n",
      "  self._setitem_with_indexer(indexer, value)\n"
     ]
    }
   ],
   "source": [
    "## Punctuation Removal\n",
    "def form_sentence(headline):\n",
    "    headline_blob = TextBlob(headline)\n",
    "    return ' '.join(headline_blob.words)\n",
    "\n",
    "data_temp['HL_PuncRem_1'] = 'NaN'\n",
    "for i in range(data_temp.shape[0]):\n",
    "    data_temp.HL_PuncRem_1.iloc[i] = form_sentence(data_temp['headline'].iloc[i])\n",
    "    \n",
    "    "
   ]
  },
  {
   "cell_type": "code",
   "execution_count": 63,
   "metadata": {},
   "outputs": [],
   "source": [
    "## Removing Stop-Words (e.g: is, are, have)\n",
    "def no_user_alpha(headline):\n",
    "    headline_list = [ele for ele in headline.split() if ele != 'user']\n",
    "    clean_tokens = [t for t in headline_list if re.match(r'[^\\W\\d]*$', t)]\n",
    "    clean_s = ' '.join(clean_tokens)\n",
    "    clean_mess = [word for word in clean_s.split() if word.lower() not in stopwords.words('english')]\n",
    "    return clean_mess\n",
    "\n",
    "data_temp['HL_StopWords_2'] = 'NaN'\n",
    "for i in range(data_temp.shape[0]):\n",
    "    data_temp.HL_StopWords_2.iloc[i] = no_user_alpha(data_temp['HL_PuncRem_1'].iloc[i])\n"
   ]
  },
  {
   "cell_type": "code",
   "execution_count": 68,
   "metadata": {},
   "outputs": [
    {
     "name": "stdout",
     "output_type": "stream",
     "text": [
      "['Cops', 'One', 'Village', 'Convicted', 'Crimes', 'Say']\n",
      "Cops in One Village Have Been Convicted of 70 Crimes. Here’s What They Had to Say About It.\n"
     ]
    }
   ],
   "source": [
    "print(data_temp.HL_StopWords_2.iloc[0])\n",
    "print(data_temp.headline.iloc[0])"
   ]
  },
  {
   "cell_type": "code",
   "execution_count": 65,
   "metadata": {},
   "outputs": [],
   "source": [
    "# Normalize Text -- NLTK’s built-in WordNetLemmatizer does this \n",
    "def normalization(headline_list):\n",
    "        lem = WordNetLemmatizer()\n",
    "        normalized_headline = []\n",
    "        for word in headline_list:\n",
    "            normalized_text = lem.lemmatize(word,'v')\n",
    "            normalized_headline.append(normalized_text)\n",
    "        return normalized_headline\n",
    "    \n",
    "data_temp['HL_Normalize_3'] = 'NaN'\n",
    "for i in range(data_temp.shape[0]):\n",
    "    data_temp.HL_Normalize_3.iloc[i] = normalization(data_temp['HL_StopWords_2'].iloc[i])\n",
    "    "
   ]
  },
  {
   "cell_type": "code",
   "execution_count": 67,
   "metadata": {},
   "outputs": [
    {
     "name": "stdout",
     "output_type": "stream",
     "text": [
      "['Cops', 'One', 'Village', 'Convicted', 'Crimes', 'Say']\n",
      "Cops in One Village Have Been Convicted of 70 Crimes. Here’s What They Had to Say About It.\n"
     ]
    }
   ],
   "source": [
    "print(data_temp.HL_Normalize_3.iloc[0])\n",
    "print(data_temp.headline.iloc[0])"
   ]
  },
  {
   "cell_type": "code",
   "execution_count": 90,
   "metadata": {},
   "outputs": [],
   "source": [
    "## Combining all the above text pre-processing into one function \n",
    "\n",
    "def text_processing(headline):\n",
    "    \n",
    "    #Generating the list of words in the headline (hastags and other punctuations removed)\n",
    "    def form_sentence(headline):\n",
    "        headline_blob = TextBlob(headline)\n",
    "        return ' '.join(headline_blob.words)\n",
    "    new_headline = form_sentence(headline)\n",
    "    \n",
    "    #Removing stopwords and words with unusual symbols\n",
    "    def no_user_alpha(headline):\n",
    "        headline_list = [ele for ele in headline.split() if ele != 'user']\n",
    "        clean_tokens = [t for t in headline_list if re.match(r'[^\\W\\d]*$', t)]\n",
    "        clean_s = ' '.join(clean_tokens)\n",
    "        clean_mess = [word for word in clean_s.split() if word.lower() not in stopwords.words('english')]\n",
    "        return clean_mess\n",
    "    no_punc_headline = no_user_alpha(new_headline)\n",
    "    \n",
    "    #Normalizing the words in headlines \n",
    "    def normalization(headline_list):\n",
    "        lem = WordNetLemmatizer()\n",
    "        normalized_headline = []\n",
    "        for word in headline_list:\n",
    "            normalized_text = lem.lemmatize(word,'v')\n",
    "            normalized_headline.append(normalized_text)\n",
    "        return normalized_headline\n",
    "    \n",
    "    \n",
    "    return normalization(no_punc_headline)"
   ]
  },
  {
   "cell_type": "code",
   "execution_count": 91,
   "metadata": {},
   "outputs": [],
   "source": [
    "# scikit-learn: Pre-defining a workflow of algorithm (Niave-Bayse Classifier)\n",
    "pipeline = Pipeline([\n",
    "    ('bow',CountVectorizer(analyzer=text_processing)),  # strings to token integer counts\n",
    "    ('tfidf', TfidfTransformer()),  # integer counts to weighted TF-IDF scores\n",
    "    ('classifier', MultinomialNB()),  # train on TF-IDF vectors w/ Naive Bayes classifier\n",
    "])"
   ]
  },
  {
   "cell_type": "code",
   "execution_count": 139,
   "metadata": {},
   "outputs": [],
   "source": [
    "## Splitting the Data into a Training, Validation, and Test Set\n",
    "## Fractions are: Training = 80%, Validation = 10%, Test = 10 %\n",
    "\n",
    "from sklearn.model_selection import train_test_split  \n",
    "\n",
    "\n",
    "## For the time being, the following code forces the training, validation, and test data sets are balanced\n",
    "num_pos_labels = data_temp['BinaryEmoLabel'].sum() # 1418 headlines\n",
    "num_neg_labels = data_temp.shape[0] - num_pos_labels # 3582 headlines\n",
    "num_neg_labels_2drop = num_neg_labels - num_pos_labels # 2164 headlines\n",
    "cnt = 0\n",
    "data_temp_bal = data_temp.copy(deep=True)\n",
    "# remove the first \"num_neg_2drop\" \n",
    "        \n",
    "index_Label0 = data_temp_bal.index[data_temp_bal['BinaryEmoLabel'] == 0].tolist()\n",
    "\n",
    "\n",
    "Labels = data_temp.BinaryEmoLabel\n",
    "X_train, X_test, y_train, y_test = train_test_split(data_temp, Labels, test_size=0.2, random_state=1)\n",
    "X_train, X_val, y_train, y_val = train_test_split(X_train, y_train, test_size=0.5, random_state=1)"
   ]
  },
  {
   "cell_type": "code",
   "execution_count": 179,
   "metadata": {},
   "outputs": [
    {
     "name": "stdout",
     "output_type": "stream",
     "text": [
      "The Total Number of Headlines in the balanced Data Set are: 2836\n"
     ]
    }
   ],
   "source": [
    "test = data_temp_bal.drop(data_temp_bal.index[index_Label0[0:num_neg_labels_2drop]])\n",
    "\n",
    "print(\"The Total Number of Headlines in the balanced Data Set are:\", test.shape[0])"
   ]
  },
  {
   "cell_type": "code",
   "execution_count": 189,
   "metadata": {},
   "outputs": [
    {
     "name": "stdout",
     "output_type": "stream",
     "text": [
      "              precision    recall  f1-score   support\n",
      "\n",
      "           0       0.69      0.65      0.67       294\n",
      "           1       0.65      0.68      0.66       274\n",
      "\n",
      "    accuracy                           0.67       568\n",
      "   macro avg       0.67      0.67      0.67       568\n",
      "weighted avg       0.67      0.67      0.67       568\n",
      "\n",
      "[[192 102]\n",
      " [ 87 187]]\n",
      "0.6672535211267606\n",
      "The accuracy of labelling all headlines NEGATIVE is: 0.6019040902679831\n",
      "This model's accuracy is better than the Niave assumption by: 0.06534943085877754\n"
     ]
    }
   ],
   "source": [
    "### Trainiing Model ####\n",
    "msg_train, msg_test, label_train, label_test = train_test_split(test['headline'], test['BinaryEmoLabel'], test_size=0.2)\n",
    "pipeline.fit(msg_train,label_train)\n",
    "predictions = pipeline.predict(msg_test)\n",
    "print(classification_report(predictions,label_test))\n",
    "print(confusion_matrix(predictions,label_test))\n",
    "print(accuracy_score(predictions,label_test))\n",
    "# What would the accuracy of the Training Data Set is we niavely set all labels to 0\n",
    "print(\"The accuracy of labelling all headlines NEGATIVE is:\",1-label_train.sum()/len(test))\n",
    "\n",
    "print(\"This model's accuracy is better than the Niave assumption by:\", accuracy_score(predictions,label_test) - 1+label_train.sum()/len(test)) "
   ]
  },
  {
   "cell_type": "code",
   "execution_count": 181,
   "metadata": {},
   "outputs": [
    {
     "name": "stdout",
     "output_type": "stream",
     "text": [
      "The accuracy of labelling all headlines NEGATIVE is: 0.5987306064880114\n"
     ]
    }
   ],
   "source": [
    "# What would the accuracy of the Training Data Set is we niavely set all labels to 0\n",
    "print(\"The accuracy of labelling all headlines NEGATIVE is:\",1-label_train.sum()/len(test))"
   ]
  },
  {
   "cell_type": "code",
   "execution_count": null,
   "metadata": {},
   "outputs": [],
   "source": []
  }
 ],
 "metadata": {
  "kernelspec": {
   "display_name": "Python 3",
   "language": "python",
   "name": "python3"
  },
  "language_info": {
   "codemirror_mode": {
    "name": "ipython",
    "version": 3
   },
   "file_extension": ".py",
   "mimetype": "text/x-python",
   "name": "python",
   "nbconvert_exporter": "python",
   "pygments_lexer": "ipython3",
   "version": "3.7.4"
  }
 },
 "nbformat": 4,
 "nbformat_minor": 2
}

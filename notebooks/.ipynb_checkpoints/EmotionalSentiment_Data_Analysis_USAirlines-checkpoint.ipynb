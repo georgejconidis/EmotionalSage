{
 "cells": [
  {
   "cell_type": "markdown",
   "metadata": {},
   "source": [
    "This notebook will explore data gathered from the US Airlines Sentiment Data Set\n",
    "\n",
    "Summary of Data: Twitter responses towards US Airlines and the emotional state of each party.\n",
    "\n",
    "Data Information:\n",
    "Length of data set: 14,640\n",
    "Columns in the data set:'tweet_id', 'airline_sentiment', 'airline_sentiment_confidence',\n",
    "       'negativereason', 'negativereason_confidence', 'airline',\n",
    "       'airline_sentiment_gold', 'name', 'negativereason_gold',\n",
    "       'retweet_count', 'text', 'tweet_coord', 'tweet_created',\n",
    "       'tweet_location', 'user_timezone'\n"
   ]
  },
  {
   "cell_type": "code",
   "execution_count": 90,
   "metadata": {},
   "outputs": [],
   "source": [
    "# Importing Python modules\n",
    "import numpy as np\n",
    "import pandas as pd\n",
    "import os"
   ]
  },
  {
   "cell_type": "code",
   "execution_count": 91,
   "metadata": {},
   "outputs": [],
   "source": [
    "# Importing the dataset with pandas\n",
    "\n",
    "# Changing the working directory to the raw data directory\n",
    "os.chdir('/home/george/Documents/Insight_DS_TO20A/Projects/EmotionalDetection/data/raw/US_Airline_Sentiment')\n",
    "data_temp = pd.read_csv('Tweets.csv')"
   ]
  },
  {
   "cell_type": "code",
   "execution_count": 92,
   "metadata": {
    "scrolled": true
   },
   "outputs": [
    {
     "data": {
      "text/plain": [
       "(Index(['tweet_id', 'airline_sentiment', 'airline_sentiment_confidence',\n",
       "        'negativereason', 'negativereason_confidence', 'airline',\n",
       "        'airline_sentiment_gold', 'name', 'negativereason_gold',\n",
       "        'retweet_count', 'text', 'tweet_coord', 'tweet_created',\n",
       "        'tweet_location', 'user_timezone'],\n",
       "       dtype='object'), (14640, 15))"
      ]
     },
     "execution_count": 92,
     "metadata": {},
     "output_type": "execute_result"
    }
   ],
   "source": [
    "data_temp.columns, data_temp.shape"
   ]
  },
  {
   "cell_type": "code",
   "execution_count": 93,
   "metadata": {},
   "outputs": [
    {
     "name": "stdout",
     "output_type": "stream",
     "text": [
      "The total number of tweets are: 10522\n",
      "The number (out of 5000) of negative emotional headlines = 3125\n",
      "The number (out of 5000) of positive emotional headlines = 7397\n",
      "The niave classification (1 class fit to all) is = 0.7146140327159659\n"
     ]
    }
   ],
   "source": [
    "# Minimalist appraoch to labelling the above data set: \n",
    "# Create a binary classification scheme = the headline has a \"+\" or \"-\" emotional response.\n",
    "## Only collect the responses that gave a positive or negative emotional response from the airline\n",
    "\n",
    "# data_pn = data_temp[data_temp.airline_sentiment != 'neutral'] \n",
    "# data_pn.airline_sentiment.unique(), data_pn.shape  \n",
    "\n",
    "# Droping labels with nan and converting them\n",
    "#data_temp.negativereason_confidence.dropna(how='all',inplace=True)\n",
    "#data_temp['negativereason_confidence'] = data_temp.negativereason_confidence.round(0).astype(int)\n",
    "#data_temp.negativereason_confidence.dropna(how='all',inplace=True)\n",
    "#data_temp.negativereason_confidence.unique()\n",
    "\n",
    "\n",
    "# # Gathering the text and labels\n",
    "\n",
    "text = data_temp.text.copy(deep=True)\n",
    "labels_confvalues = data_temp.negativereason_confidence\n",
    "labels_confvalues.unique()\n",
    "# # Pre-processing labels. Removing \"inf\" and nan\n",
    "labels_confvalues.replace([np.inf, -np.inf], np.nan)\n",
    "labels_confvalues.dropna()\n",
    "\n",
    "# # Seperating the labels by seperating the confidence labels to be:\n",
    "# # negative > 0.5, positive is <= 0.5\n",
    "labels_confvalues.dropna(how='all', inplace=True)\n",
    "labels = labels_confvalues.round(0).astype(int)\n",
    "filter_text = labels.index\n",
    "text = text[filter_text]\n",
    "\n",
    "# Printing the number of each class:\n",
    "print(\"The total number of tweets are:\", labels.shape[0])\n",
    "print(\"The number (out of 5000) of negative emotional headlines =\", labels.shape[0] - labels.sum())\n",
    "print(\"The number (out of 5000) of positive emotional headlines =\", labels.sum())\n",
    "print(\"The niave classification (1 class fit to all) is =\", 1-2111.0/7397)"
   ]
  },
  {
   "cell_type": "code",
   "execution_count": 94,
   "metadata": {},
   "outputs": [
    {
     "name": "stdout",
     "output_type": "stream",
     "text": [
      "7397\n",
      "3125\n",
      "4272\n",
      "The total length of the label series =  (6250,)\n",
      "The total number of positive labels = 3125\n"
     ]
    }
   ],
   "source": [
    "# Forcing a balance dataset -- NIAVELY REMOVING POSITIVE TWEETS To BALANCE THE DATASET\n",
    "\n",
    "## Splitting the Data into a Training, Validation, and Test Set\n",
    "## Fractions are: Training = 80%, Validation = 10%, Test = 10 %\n",
    "\n",
    "from sklearn.model_selection import train_test_split  \n",
    "\n",
    "\n",
    "## For the time being, the following code forces the training, validation, and test data sets are balanced\n",
    "num_pos_labels = labels.sum() # 1418 headlines\n",
    "num_neg_labels = labels.shape[0] - num_pos_labels # 3582 headlines\n",
    "num_pos_labels_2drop = num_pos_labels - num_neg_labels # 2164 headlines\n",
    "print(num_pos_labels)\n",
    "print(num_neg_labels)\n",
    "print(num_pos_labels_2drop)\n",
    "# cnt = 0\n",
    "\n",
    "index_pos = labels[labels == 1].index\n",
    "index_neg = labels[labels == 0].index\n",
    "labels_temp_bal_pos = labels[index_pos[num_pos_labels_2drop:]]\n",
    "labels_temp_bal_neg = labels[index_neg]\n",
    "\n",
    "labels_temp_bal = labels_temp_bal_neg.combine(labels_temp_bal_pos, max, fill_value=0)\n",
    "\n",
    "print(\"The total length of the label series = \", labels_temp_bal.shape)\n",
    "print(\"The total number of positive labels =\",labels_temp_bal.sum())\n",
    "labels_temp_bal.loc[14638], labels.loc[14638]\n",
    "\n",
    "## Ensuring we use the appropriate text from the balanced labeled series\n",
    "labels_temp_bal_indices = labels_temp_bal.index\n",
    "text_bal = text[labels_temp_bal_indices]\n",
    "\n",
    "# cnt = 0\n",
    "# for i in range(labels_temp_bal.shape[0]):\n",
    "#     if labels_temp_bal.iloc[i] == 1 and cnt < (num_pos_labels_2drop+1):\n",
    "#         labels_temp_bal[i].drop(inplace=True)\n",
    "#         cnt += 1\n",
    "\n",
    "# index_Label0 = data_temp_bal.index[data_temp_bal['BinaryEmoLabel'] == 0].tolist()\n",
    "\n",
    "\n",
    "# Labels = data_temp.BinaryEmoLabel\n",
    "# X_train, X_test, y_train, y_test = train_test_split(data_temp, Labels, test_size=0.2, random_state=1)\n",
    "# X_train, X_val, y_train, y_val = train_test_split(X_train, y_train, test_size=0.5, random_state=1)"
   ]
  },
  {
   "cell_type": "code",
   "execution_count": null,
   "metadata": {},
   "outputs": [],
   "source": []
  },
  {
   "cell_type": "markdown",
   "metadata": {},
   "source": [
    "## Pre-processing the text / headlines\n",
    "#### Initially the steps which follow were inspired by the Medium Blog Posts:\n",
    "#### https://towardsdatascience.com/sentiment-analysis-with-python-part-1-5ce197074184\n",
    "#### https://towardsdatascience.com/sentiment-analysis-with-python-part-2-4f71e7bde59a\n",
    "#### Written By: Aaron Kub\n",
    "\n",
    "#### https://towardsdatascience.com/twitter-sentiment-analysis-classification-using-nltk-python-fa912578614c\n",
    "#### Written By: Mohamed Afham ** Follwoing this scheme to begin the process"
   ]
  },
  {
   "cell_type": "code",
   "execution_count": 95,
   "metadata": {},
   "outputs": [],
   "source": [
    "#Data Analysis\n",
    "import pandas as pd\n",
    "import matplotlib.pyplot as plt\n",
    "import seaborn as sns\n",
    "\n",
    "#Data Preprocessing and Feature Engineering\n",
    "from textblob import TextBlob\n",
    "import re\n",
    "from nltk.corpus import stopwords\n",
    "from nltk.stem.wordnet import WordNetLemmatizer\n",
    "from sklearn.feature_extraction.text import CountVectorizer, TfidfTransformer\n",
    "\n",
    "#Model Selection and Validation\n",
    "from sklearn.naive_bayes import MultinomialNB\n",
    "from sklearn.model_selection import train_test_split\n",
    "from sklearn.pipeline import Pipeline\n",
    "from sklearn.metrics import confusion_matrix, classification_report,accuracy_score"
   ]
  },
  {
   "cell_type": "code",
   "execution_count": 96,
   "metadata": {},
   "outputs": [],
   "source": [
    "## Combining all the above text pre-processing into one function \n",
    "\n",
    "def text_processing(headline):\n",
    "    \n",
    "    #Generating the list of words in the headline (hastags and other punctuations removed)\n",
    "    def form_sentence(headline):\n",
    "        headline_blob = TextBlob(headline)\n",
    "        return ' '.join(headline_blob.words)\n",
    "    new_headline = form_sentence(headline)\n",
    "    \n",
    "    #Removing stopwords and words with unusual symbols\n",
    "    def no_user_alpha(headline):\n",
    "        headline_list = [ele for ele in headline.split() if ele != 'user']\n",
    "        clean_tokens = [t for t in headline_list if re.match(r'[^\\W\\d]*$', t)]\n",
    "        clean_s = ' '.join(clean_tokens)\n",
    "        clean_mess = [word for word in clean_s.split() if word.lower() not in stopwords.words('english')]\n",
    "        return clean_mess\n",
    "    no_punc_headline = no_user_alpha(new_headline)\n",
    "    \n",
    "    #Normalizing the words in headlines \n",
    "    def normalization(headline_list):\n",
    "        lem = WordNetLemmatizer()\n",
    "        normalized_headline = []\n",
    "        for word in headline_list:\n",
    "            normalized_text = lem.lemmatize(word,'v')\n",
    "            normalized_headline.append(normalized_text)\n",
    "        return normalized_headline\n",
    "    \n",
    "    \n",
    "    return normalization(no_punc_headline)"
   ]
  },
  {
   "cell_type": "code",
   "execution_count": 97,
   "metadata": {},
   "outputs": [],
   "source": [
    "def Int2EmotionConverter(IntEmo):\n",
    "    \"\"\"\n",
    "    Converts the integer value of the emotion predicted to the emotions word in English\n",
    "    \"\"\"\n",
    "    EmoWords = pd.DataFrame(['Sad','Happy'])\n",
    "    return EmoWords.iloc[IntEmo][0]"
   ]
  },
  {
   "cell_type": "code",
   "execution_count": 98,
   "metadata": {},
   "outputs": [],
   "source": [
    "# scikit-learn: Pre-defining a workflow of algorithm (Niave-Bayse Classifier)\n",
    "pipeline = Pipeline([\n",
    "    ('bow',CountVectorizer(analyzer=text_processing)),  # strings to token integer counts\n",
    "    ('tfidf', TfidfTransformer()),  # integer counts to weighted TF-IDF scores\n",
    "    ('classifier', MultinomialNB()),  # train on TF-IDF vectors w/ Naive Bayes classifier\n",
    "])"
   ]
  },
  {
   "cell_type": "code",
   "execution_count": 99,
   "metadata": {},
   "outputs": [
    {
     "name": "stdout",
     "output_type": "stream",
     "text": [
      "              precision    recall  f1-score   support\n",
      "\n",
      "           0       0.74      0.81      0.78       275\n",
      "           1       0.84      0.77      0.81       350\n",
      "\n",
      "    accuracy                           0.79       625\n",
      "   macro avg       0.79      0.79      0.79       625\n",
      "weighted avg       0.80      0.79      0.79       625\n",
      "\n",
      "[[224  51]\n",
      " [ 79 271]]\n",
      "0.792\n",
      "The accuracy of labelling all headlines NEGATIVE is: 0.5016888888888889\n",
      "This model's accuracy is better than the Niave assumption by: 0.29031111111111113\n"
     ]
    }
   ],
   "source": [
    "### Trainiing Model ####\n",
    "msg_train, msg_test, label_train, label_test = train_test_split(text_bal, labels_temp_bal, test_size=0.1)\n",
    "pipeline.fit(msg_train,label_train)\n",
    "predictions = pipeline.predict(msg_test)\n",
    "print(classification_report(predictions,label_test))\n",
    "print(confusion_matrix(predictions,label_test))\n",
    "print(accuracy_score(predictions,label_test))\n",
    "# What would the accuracy of the Training Data Set is we niavely set all labels to 0\n",
    "print(\"The accuracy of labelling all headlines NEGATIVE is:\",1-label_train.sum()/len(label_train))\n",
    "\n",
    "print(\"This model's accuracy is better than the Niave assumption by:\", accuracy_score(predictions,label_test) - 1+label_train.sum()/len(label_train)) "
   ]
  },
  {
   "cell_type": "code",
   "execution_count": null,
   "metadata": {},
   "outputs": [],
   "source": [
    "### Now predict the emotional label of a senetence chosen by the user\n",
    "text.iloc[0]"
   ]
  },
  {
   "cell_type": "code",
   "execution_count": 100,
   "metadata": {},
   "outputs": [
    {
     "name": "stdout",
     "output_type": "stream",
     "text": [
      "The sentence input was:\n",
      " @VirginAmerica I'd love to know what your policy is for damaged luggage.\n",
      "The emotional prediction was: Sad\n"
     ]
    }
   ],
   "source": [
    "dummy_index = 90\n",
    "\n",
    "temp_text = pd.Series([])\n",
    "temp_text[0] = text.iloc[dummy_index]\n",
    "type(temp_text)\n",
    "\n",
    "out_temp = pipeline.predict(temp_text)\n",
    "print(\"The sentence input was:\\n\",temp_text[0])\n",
    "print(\"The emotional prediction was:\", Int2EmotionConverter(out_temp[0]))"
   ]
  },
  {
   "cell_type": "code",
   "execution_count": 101,
   "metadata": {},
   "outputs": [],
   "source": [
    "## Randomly print a positive review and a negative review -- MANUAL INSPECTION OF RESULTS\n",
    "\n",
    "# Collecting all preditions\n",
    "all_preds = pipeline.predict(text)"
   ]
  },
  {
   "cell_type": "code",
   "execution_count": 102,
   "metadata": {},
   "outputs": [
    {
     "name": "stdout",
     "output_type": "stream",
     "text": [
      "THIS IS THE SAD CASE!!\n",
      "The sentence input was:\n",
      " @united Thank you. Took care of everything and made it right. That's the experience I'm used to. Opened the app to find flight changed.\n",
      "The emotional prediction was: Sad\n",
      "________________________\n",
      "THIS IS THE HAPPY CASE!!\n",
      "The sentence input was:\n",
      " @AmericanAir I sure hope you all can fix @USAirways. Good luck, their service sucks. #nexttimeiwillflysouthwest\n",
      "The emotional prediction was: Happy\n"
     ]
    }
   ],
   "source": [
    "# Gathering all indices for \"positive\" and \"negative\" reviews\n",
    "pred_neg_indices = np.where(all_preds == 0)[0] # all_preds[all_preds == 0].index \n",
    "pred_pos_indices = np.where(all_preds == 1)[0] # all_preds[all_preds == 1].index\n",
    "\n",
    "neg_index_ran = np.random.choice(pred_neg_indices,1)[0]\n",
    "pos_index_ran = np.random.choice(pred_pos_indices,1)[0]\n",
    "#print(neg_index_ran)\n",
    "#print(pos_index_ran)\n",
    "\n",
    "print(\"THIS IS THE SAD CASE!!\")\n",
    "# Printing the results of the negative text\n",
    "print(\"The sentence input was:\\n\",text.iloc[neg_index_ran])\n",
    "print(\"The emotional prediction was:\", Int2EmotionConverter(all_preds[neg_index_ran]))\n",
    "print(\"________________________\")\n",
    "print(\"THIS IS THE HAPPY CASE!!\")\n",
    "# Printing the results of the positive text\n",
    "print(\"The sentence input was:\\n\",text.iloc[pos_index_ran])\n",
    "print(\"The emotional prediction was:\", Int2EmotionConverter(all_preds[pos_index_ran]))"
   ]
  },
  {
   "cell_type": "code",
   "execution_count": null,
   "metadata": {},
   "outputs": [],
   "source": [
    "out_temp = pipeline.predict(temp_text)\n",
    "print(\"The sentence input was:\\n\",temp_text[0])\n",
    "print(\"The emotional prediction was:\", Int2EmotionConverter(out_temp[0]))\n"
   ]
  },
  {
   "cell_type": "markdown",
   "metadata": {},
   "source": [
    "## Now predicting the emotional sentiment (neg., pos.) given a user string"
   ]
  },
  {
   "cell_type": "code",
   "execution_count": null,
   "metadata": {
    "scrolled": true
   },
   "outputs": [],
   "source": [
    "temp_text = pd.Series([])\n",
    "temp_text[0] = \"George is Happy!\"\n",
    "\n",
    "out_temp = pipeline.predict(temp_text)\n",
    "print(\"The sentence input was:\\n\",temp_text[0])\n",
    "print(\"The emotional prediction was:\", Int2EmotionConverter(out_temp[0]))"
   ]
  },
  {
   "cell_type": "code",
   "execution_count": null,
   "metadata": {},
   "outputs": [],
   "source": [
    "temp_text\n",
    "out_temp[0]\n",
    "Int2EmotionConverter(out_temp[0])"
   ]
  },
  {
   "cell_type": "markdown",
   "metadata": {},
   "source": [
    "## REAL CONVERSATION EXAMPLE CASE ##"
   ]
  },
  {
   "cell_type": "code",
   "execution_count": 59,
   "metadata": {
    "scrolled": true
   },
   "outputs": [
    {
     "data": {
      "text/plain": [
       "array(['Customer', 'CS_Agent'], dtype=object)"
      ]
     },
     "execution_count": 59,
     "metadata": {},
     "output_type": "execute_result"
    }
   ],
   "source": [
    "# importing the real conversation\n",
    "os.chdir('/home/george/Documents/Insight_DS_TO20A/Projects/EmotionalDetection/data/raw')\n",
    "real_conv = pd.read_csv('real_chat.txt',sep=\"\\n\", header=None, dtype=str) \n",
    "real_conv = real_conv[0] # converts the DataFrame to a DataSeries \n",
    "                         # as desired for the label predictions\n",
    "\n",
    "\n",
    "# Generating the emotional predictions from the above text\n",
    "emos_real_chat = pipeline.predict(real_conv)\n",
    "\n",
    "# generating the speaker/writer\n",
    "speaker = pd.Series([])\n",
    "for i in range(real_conv.shape[0]):\n",
    "    speaker[i] = real_conv.iloc[i].split()[0][:-1] \n",
    "\n",
    "speaker.unique()"
   ]
  },
  {
   "cell_type": "code",
   "execution_count": 88,
   "metadata": {},
   "outputs": [
    {
     "data": {
      "text/plain": [
       "[]"
      ]
     },
     "execution_count": 88,
     "metadata": {},
     "output_type": "execute_result"
    },
    {
     "data": {
      "image/png": "[encoded data removed]",
      "text/plain": [
       "<Figure size 432x288 with 1 Axes>"
      ]
     },
     "metadata": {
      "needs_background": "light"
     },
     "output_type": "display_data"
    }
   ],
   "source": [
    "type(speaker), type(emos_real_chat)\n",
    "chat_df = pd.DataFrame([])\n",
    "chat_df['speaker'] = speaker\n",
    "chat_df['emotions'] = emos_real_chat\n",
    "index_agent = chat_df.index[chat_df['speaker'] == 'CS_Agent' ].tolist()\n",
    "index_customer = chat_df.index[chat_df['speaker'] == 'Customer' ].tolist()\n",
    "\n",
    "\n",
    "fig, ax = plt.subplots()\n",
    "plt.plot(index_agent,chat_df['emotions'][index_agent],label='agent',lw=3)\n",
    "plt.plot(index_customer,chat_df['emotions'][index_customer],label='customer', lw=3)\n",
    "plt.legend(bbox_to_anchor=(1.05, 1), loc='upper left', borderaxespad=0.)\n",
    "plt.xlabel('Message Number')\n",
    "plt.ylabel('Texter')\n",
    "\n",
    "# Changing the y-labels to \"Sad\" (0) and \"Happy\" (1)\n",
    "# labels = [item.get_text() for item in ax.get_yticklabels()]\n",
    "# labels[0] = 'Sad'\n",
    "# labels[1] = 'Happy'\n",
    "\n",
    "plt.yticks(chat_df['emotions'], ['sad','happy'], rotation='horizontal')\n",
    "\n",
    "plt.plot()\n",
    "#final_df.plot(x='index',y='emotions')\n"
   ]
  },
  {
   "cell_type": "code",
   "execution_count": 63,
   "metadata": {},
   "outputs": [
    {
     "name": "stdout",
     "output_type": "stream",
     "text": [
      "[  1   2   3   4   5   6   7   8   9  10  11  12  13  14  15  16  17  18\n",
      "  19  20  21  22  23  24  25  26  27  28  29  30  31  32  33  34  35  36\n",
      "  37  38  39  40  41  42  43  44  45  46  47  48  49  50  51  52  53  54\n",
      "  55  56  57  58  59  60  61  62  63  64  65  66  67  68  69  70  71  72\n",
      "  73  74  75  76  77  78  79  80  81  82  83  84  85  86  87  88  89  90\n",
      "  91  92  93  94  95  96  97  98  99 100 101 102 103 104 105 106 107 108\n",
      " 109 110 111 112 113 114 115 116]\n"
     ]
    },
    {
     "data": {
      "text/plain": [
       "[<matplotlib.lines.Line2D at 0x7f144821b8d0>]"
      ]
     },
     "execution_count": 63,
     "metadata": {},
     "output_type": "execute_result"
    },
    {
     "data": {
      "image/png": "[encoded data removed]",
      "text/plain": [
       "<Figure size 432x288 with 1 Axes>"
      ]
     },
     "metadata": {
      "needs_background": "light"
     },
     "output_type": "display_data"
    }
   ],
   "source": [
    "# generating the plot to show the emotional state of each user in a given text\n",
    "import matplotlib.pyplot as plt\n",
    "\n",
    "x_ticks = np.arange(1,len(emos_real_chat))\n",
    "print(x_ticks)\n",
    "plt.xlabel('Sequential Text Message Number', size=20)\n",
    "plt.ylabel('Speaker', size=20)\n",
    "plt.plot(emos_real_chat,speaker)\n"
   ]
  },
  {
   "cell_type": "markdown",
   "metadata": {},
   "source": [
    "# Customer Support on Twitter"
   ]
  },
  {
   "cell_type": "code",
   "execution_count": 168,
   "metadata": {},
   "outputs": [],
   "source": [
    "## Importing the \"Customer Support on Twitter\"\n",
    "os.chdir('/home/george/Documents/Insight_DS_TO20A/Projects/EmotionalDetection/data/raw/CustomerSupportTwitter')\n",
    "cst_orig = pd.read_csv('twcs.csv')\n",
    "cst_orig.dropna(inplace=True) # removing the NaN valued rows as they add to noise"
   ]
  },
  {
   "cell_type": "code",
   "execution_count": 169,
   "metadata": {},
   "outputs": [
    {
     "data": {
      "text/plain": [
       "(Index(['tweet_id', 'author_id', 'inbound', 'created_at', 'text',\n",
       "        'response_tweet_id', 'in_response_to_tweet_id'],\n",
       "       dtype='object'), (976810, 7))"
      ]
     },
     "execution_count": 169,
     "metadata": {},
     "output_type": "execute_result"
    }
   ],
   "source": [
    "cst_orig.columns, cst_orig.shape"
   ]
  },
  {
   "cell_type": "code",
   "execution_count": 167,
   "metadata": {
    "scrolled": true
   },
   "outputs": [
    {
     "name": "stdout",
     "output_type": "stream",
     "text": [
      "The length of original tweet id-pair dataframe is: 2811774\n",
      "The Length after the NaN values are dropped 1771145\n",
      "The length of the unique tweet pair 1771145\n"
     ]
    }
   ],
   "source": [
    "## identifying conversations -- gathering the unqiue pairs of tweets\n",
    "tweetID_pairs = pd.DataFrame([])\n",
    "tweetID_pairs['author_id'] = cst_orig['author_id']\n",
    "tweetID_pairs['response_tweet_id'] = cst_orig['response_tweet_id']\n",
    "print(\"The length of original tweet id-pair dataframe is:\", tweetID_pairs.shape[0])\n",
    "\n",
    "# Removing the NaN values\n",
    "tweetID_pairs.dropna(inplace=True)\n",
    "print(\"The Length after the NaN values are dropped\", tweetID_pairs.shape[0])\n",
    "\n",
    "# Generate a numpy array to sort the rows\n",
    "tweetID_pairs_np = tweetID_pairs.to_numpy(copy=True)\n",
    "tweetID_pairs_np = np.sort(tweetID_pairs_np)\n",
    "\n",
    "tweetID_pairsSrtd = pd.DataFrame([])\n",
    "tweetID_pairsSrtd['ID1'] = tweetID_pairs_np[:,0]\n",
    "tweetID_pairsSrtd['ID2'] = tweetID_pairs_np[:,1]\n",
    "tweetID_pairsSrtd.drop_duplicates(inplace=True)\n",
    "print(\"The length of the unique tweet pair\", tweetID_pairsSrtd.shape[0])"
   ]
  },
  {
   "cell_type": "code",
   "execution_count": 165,
   "metadata": {},
   "outputs": [
    {
     "data": {
      "text/plain": [
       "((1491120,), (777420,))"
      ]
     },
     "execution_count": 165,
     "metadata": {},
     "output_type": "execute_result"
    }
   ],
   "source": [
    "tweetID_pairsSrtd['ID1'].unique().shape, tweetID_pairsSrtd['ID2'].unique().shape"
   ]
  },
  {
   "cell_type": "code",
   "execution_count": null,
   "metadata": {},
   "outputs": [],
   "source": [
    "## Connecting twiter conversations together through 'tweet_id', 'response_tweet_id', 'in_response_to_tweet_id'\n",
    "convos = pd.DataFrame([])\n",
    "\n",
    "for i in range(cst_orig.shape[0]):\n",
    "    convos[\"BaseID\"] = cst_orig['tweet_id']\n",
    "    response_temp = cst_orig['response_tweet_id']\n",
    "    resp_list =  "
   ]
  },
  {
   "cell_type": "markdown",
   "metadata": {},
   "source": [
    "## -----------------------The Test Dev. Case is Completed ---------------------------------"
   ]
  },
  {
   "cell_type": "markdown",
   "metadata": {},
   "source": [
    "# ------------------------------------------------------------------------------------"
   ]
  },
  {
   "cell_type": "markdown",
   "metadata": {},
   "source": [
    "# APPENDIX: The Individual Functions and Examples cases to showcase how they work\n"
   ]
  },
  {
   "cell_type": "code",
   "execution_count": null,
   "metadata": {},
   "outputs": [],
   "source": [
    "## Punctuation Removal\n",
    "def form_sentence(headline):\n",
    "    headline_blob = TextBlob(headline)\n",
    "    return ' '.join(headline_blob.words)\n",
    "\n",
    "data_temp['HL_PuncRem_1'] = 'NaN'\n",
    "for i in range(data_temp.shape[0]):\n",
    "    data_temp.HL_PuncRem_1.iloc[i] = form_sentence(data_temp['headline'].iloc[i])\n",
    "    \n",
    "    "
   ]
  },
  {
   "cell_type": "code",
   "execution_count": null,
   "metadata": {},
   "outputs": [],
   "source": [
    "## Removing Stop-Words (e.g: is, are, have)\n",
    "def no_user_alpha(headline):\n",
    "    headline_list = [ele for ele in headline.split() if ele != 'user']\n",
    "    clean_tokens = [t for t in headline_list if re.match(r'[^\\W\\d]*$', t)]\n",
    "    clean_s = ' '.join(clean_tokens)\n",
    "    clean_mess = [word for word in clean_s.split() if word.lower() not in stopwords.words('english')]\n",
    "    return clean_mess\n",
    "\n",
    "data_temp['HL_StopWords_2'] = 'NaN'\n",
    "for i in range(data_temp.shape[0]):\n",
    "    data_temp.HL_StopWords_2.iloc[i] = no_user_alpha(data_temp['HL_PuncRem_1'].iloc[i])\n"
   ]
  },
  {
   "cell_type": "code",
   "execution_count": null,
   "metadata": {},
   "outputs": [],
   "source": [
    "print(data_temp.HL_StopWords_2.iloc[0])\n",
    "print(data_temp.headline.iloc[0])"
   ]
  },
  {
   "cell_type": "code",
   "execution_count": null,
   "metadata": {},
   "outputs": [],
   "source": [
    "# Normalize Text -- NLTK’s built-in WordNetLemmatizer does this \n",
    "def normalization(headline_list):\n",
    "        lem = WordNetLemmatizer()\n",
    "        normalized_headline = []\n",
    "        for word in headline_list:\n",
    "            normalized_text = lem.lemmatize(word,'v')\n",
    "            normalized_headline.append(normalized_text)\n",
    "        return normalized_headline\n",
    "    \n",
    "data_temp['HL_Normalize_3'] = 'NaN'\n",
    "for i in range(data_temp.shape[0]):\n",
    "    data_temp.HL_Normalize_3.iloc[i] = normalization(data_temp['HL_StopWords_2'].iloc[i])\n",
    "    "
   ]
  },
  {
   "cell_type": "code",
   "execution_count": null,
   "metadata": {},
   "outputs": [],
   "source": [
    "print(data_temp.HL_Normalize_3.iloc[0])\n",
    "print(data_temp.headline.iloc[0])"
   ]
  }
 ],
 "metadata": {
  "kernelspec": {
   "display_name": "Python 3",
   "language": "python",
   "name": "python3"
  },
  "language_info": {
   "codemirror_mode": {
    "name": "ipython",
    "version": 3
   },
   "file_extension": ".py",
   "mimetype": "text/x-python",
   "name": "python",
   "nbconvert_exporter": "python",
   "pygments_lexer": "ipython3",
   "version": "3.7.4"
  }
 },
 "nbformat": 4,
 "nbformat_minor": 2
}
